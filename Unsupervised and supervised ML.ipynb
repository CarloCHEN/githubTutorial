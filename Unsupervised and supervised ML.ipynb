{
 "cells": [
  {
   "cell_type": "code",
   "execution_count": 205,
   "metadata": {},
   "outputs": [],
   "source": [
    "import numpy as np\n",
    "import pandas as pd\n",
    "import matplotlib.pyplot as plt\n",
    "%matplotlib inline\n",
    "import seaborn as sns\n",
    "import math\n",
    "from scipy import stats\n",
    "import statsmodels.api as sm\n",
    "from sklearn.preprocessing import StandardScaler\n",
    "from sklearn.neighbors import KNeighborsClassifier\n",
    "from sklearn.tree import DecisionTreeClassifier\n",
    "from sklearn.ensemble import RandomForestClassifier\n",
    "from sklearn.ensemble import GradientBoostingClassifier\n",
    "from xgboost import XGBClassifier\n",
    "from sklearn.ensemble import AdaBoostClassifier\n",
    "from sklearn.svm import SVC"
   ]
  },
  {
   "cell_type": "code",
   "execution_count": 206,
   "metadata": {},
   "outputs": [],
   "source": [
    "pd.set_option('display.max_columns', 500)"
   ]
  },
  {
   "cell_type": "code",
   "execution_count": 207,
   "metadata": {},
   "outputs": [],
   "source": [
    "subjects2 = pd.read_csv(\"activities with common attributes.csv\")"
   ]
  },
  {
   "cell_type": "code",
   "execution_count": 208,
   "metadata": {},
   "outputs": [],
   "source": [
    "subjects2.drop(columns=['Unnamed: 0','electrocardiogram signal (lead 1)','electrocardiogram signal (lead 2)'],inplace=True)"
   ]
  },
  {
   "cell_type": "code",
   "execution_count": 209,
   "metadata": {},
   "outputs": [],
   "source": [
    "label = subjects2['Label (0 for the null class)']\n",
    "subjects2.drop(columns='Label (0 for the null class)',inplace=True)\n",
    "subjects2['label'] = label"
   ]
  },
  {
   "cell_type": "code",
   "execution_count": 210,
   "metadata": {},
   "outputs": [
    {
     "data": {
      "text/plain": [
       "(343195, 32)"
      ]
     },
     "execution_count": 210,
     "metadata": {},
     "output_type": "execute_result"
    }
   ],
   "source": [
    "subjects2.shape"
   ]
  },
  {
   "cell_type": "code",
   "execution_count": 211,
   "metadata": {},
   "outputs": [
    {
     "data": {
      "text/html": [
       "<div>\n",
       "<style scoped>\n",
       "    .dataframe tbody tr th:only-of-type {\n",
       "        vertical-align: middle;\n",
       "    }\n",
       "\n",
       "    .dataframe tbody tr th {\n",
       "        vertical-align: top;\n",
       "    }\n",
       "\n",
       "    .dataframe thead th {\n",
       "        text-align: right;\n",
       "    }\n",
       "</style>\n",
       "<table border=\"1\" class=\"dataframe\">\n",
       "  <thead>\n",
       "    <tr style=\"text-align: right;\">\n",
       "      <th></th>\n",
       "      <th>subject_number</th>\n",
       "      <th>acceleration from the chest sensor (X axis)</th>\n",
       "      <th>acceleration from the chest sensor (Y axis)</th>\n",
       "      <th>acceleration from the chest sensor (Z axis)</th>\n",
       "      <th>acceleration from the left-ankle sensor (X axis)</th>\n",
       "      <th>acceleration from the left-ankle sensor (Y axis)</th>\n",
       "      <th>acceleration from the left-ankle sensor (Z axis)</th>\n",
       "      <th>gyro from the left-ankle sensor (X axis)</th>\n",
       "      <th>gyro from the left-ankle sensor (Y axis)</th>\n",
       "      <th>gyro from the left-ankle sensor (Z axis)</th>\n",
       "      <th>magnetometer from the left-ankle sensor (X axis)</th>\n",
       "      <th>magnetometer from the left-ankle sensor (Y axis)</th>\n",
       "      <th>magnetometer from the left-ankle sensor (Z axis)</th>\n",
       "      <th>acceleration from the right-lower-arm sensor (X axis)</th>\n",
       "      <th>acceleration from the right-lower-arm sensor (Y axis)</th>\n",
       "      <th>acceleration from the right-lower-arm sensor (Z axis)</th>\n",
       "      <th>gyro from the right-lower-arm sensor (X axis)</th>\n",
       "      <th>gyro from the right-lower-arm sensor (Y axis)</th>\n",
       "      <th>gyro from the right-lower-arm sensor (Z axis)</th>\n",
       "      <th>magnetometer from the right-lower-arm sensor (X axis)</th>\n",
       "      <th>magnetometer from the right-lower-arm sensor (Y axis)</th>\n",
       "      <th>magnetometer from the right-lower-arm sensor (Z axis)</th>\n",
       "      <th>arm still</th>\n",
       "      <th>arm swinging</th>\n",
       "      <th>arm medium motion</th>\n",
       "      <th>arm high motion</th>\n",
       "      <th>leg still</th>\n",
       "      <th>leg up and down</th>\n",
       "      <th>body still</th>\n",
       "      <th>body not changing angle</th>\n",
       "      <th>body medium motion</th>\n",
       "      <th>label</th>\n",
       "    </tr>\n",
       "  </thead>\n",
       "  <tbody>\n",
       "    <tr>\n",
       "      <td>0</td>\n",
       "      <td>1</td>\n",
       "      <td>-9.7788</td>\n",
       "      <td>0.5569</td>\n",
       "      <td>1.1975</td>\n",
       "      <td>2.6493</td>\n",
       "      <td>-9.4517</td>\n",
       "      <td>0.37683</td>\n",
       "      <td>-0.20965</td>\n",
       "      <td>-0.88931</td>\n",
       "      <td>-0.50884</td>\n",
       "      <td>0.56366</td>\n",
       "      <td>0.54482</td>\n",
       "      <td>-0.73822</td>\n",
       "      <td>-2.8439</td>\n",
       "      <td>-9.0618</td>\n",
       "      <td>1.8177</td>\n",
       "      <td>-0.058824</td>\n",
       "      <td>-0.93429</td>\n",
       "      <td>-0.34483</td>\n",
       "      <td>0.35537</td>\n",
       "      <td>-0.37003</td>\n",
       "      <td>-0.3502</td>\n",
       "      <td>1</td>\n",
       "      <td>0</td>\n",
       "      <td>0</td>\n",
       "      <td>0</td>\n",
       "      <td>1</td>\n",
       "      <td>0</td>\n",
       "      <td>1</td>\n",
       "      <td>1</td>\n",
       "      <td>0</td>\n",
       "      <td>1</td>\n",
       "    </tr>\n",
       "  </tbody>\n",
       "</table>\n",
       "</div>"
      ],
      "text/plain": [
       "   subject_number  acceleration from the chest sensor (X axis)  \\\n",
       "0               1                                      -9.7788   \n",
       "\n",
       "   acceleration from the chest sensor (Y axis)  \\\n",
       "0                                       0.5569   \n",
       "\n",
       "   acceleration from the chest sensor (Z axis)  \\\n",
       "0                                       1.1975   \n",
       "\n",
       "   acceleration from the left-ankle sensor (X axis)  \\\n",
       "0                                            2.6493   \n",
       "\n",
       "   acceleration from the left-ankle sensor (Y axis)  \\\n",
       "0                                           -9.4517   \n",
       "\n",
       "   acceleration from the left-ankle sensor (Z axis)  \\\n",
       "0                                           0.37683   \n",
       "\n",
       "   gyro from the left-ankle sensor (X axis)  \\\n",
       "0                                  -0.20965   \n",
       "\n",
       "   gyro from the left-ankle sensor (Y axis)  \\\n",
       "0                                  -0.88931   \n",
       "\n",
       "   gyro from the left-ankle sensor (Z axis)  \\\n",
       "0                                  -0.50884   \n",
       "\n",
       "   magnetometer from the left-ankle sensor (X axis)  \\\n",
       "0                                           0.56366   \n",
       "\n",
       "   magnetometer from the left-ankle sensor (Y axis)  \\\n",
       "0                                           0.54482   \n",
       "\n",
       "   magnetometer from the left-ankle sensor (Z axis)  \\\n",
       "0                                          -0.73822   \n",
       "\n",
       "   acceleration from the right-lower-arm sensor (X axis)  \\\n",
       "0                                            -2.8439       \n",
       "\n",
       "   acceleration from the right-lower-arm sensor (Y axis)  \\\n",
       "0                                            -9.0618       \n",
       "\n",
       "   acceleration from the right-lower-arm sensor (Z axis)  \\\n",
       "0                                             1.8177       \n",
       "\n",
       "   gyro from the right-lower-arm sensor (X axis)  \\\n",
       "0                                      -0.058824   \n",
       "\n",
       "   gyro from the right-lower-arm sensor (Y axis)  \\\n",
       "0                                       -0.93429   \n",
       "\n",
       "   gyro from the right-lower-arm sensor (Z axis)  \\\n",
       "0                                       -0.34483   \n",
       "\n",
       "   magnetometer from the right-lower-arm sensor (X axis)  \\\n",
       "0                                            0.35537       \n",
       "\n",
       "   magnetometer from the right-lower-arm sensor (Y axis)  \\\n",
       "0                                           -0.37003       \n",
       "\n",
       "   magnetometer from the right-lower-arm sensor (Z axis)  arm still  \\\n",
       "0                                            -0.3502              1   \n",
       "\n",
       "   arm swinging  arm medium motion  arm high motion  leg still  \\\n",
       "0             0                  0                0          1   \n",
       "\n",
       "   leg up and down  body still  body not changing angle  body medium motion  \\\n",
       "0                0           1                        1                   0   \n",
       "\n",
       "   label  \n",
       "0      1  "
      ]
     },
     "execution_count": 211,
     "metadata": {},
     "output_type": "execute_result"
    }
   ],
   "source": [
    "subjects2.head(1)"
   ]
  },
  {
   "cell_type": "code",
   "execution_count": 117,
   "metadata": {},
   "outputs": [],
   "source": [
    "train = subjects2[subjects2['subject_number']!=10]\n",
    "test_real = subjects2[subjects2['subject_number']==10]"
   ]
  },
  {
   "cell_type": "code",
   "execution_count": 118,
   "metadata": {},
   "outputs": [],
   "source": [
    "X_train = train.iloc[:,1:22]\n",
    "y_train_1 = train.iloc[:,22]\n",
    "y_train_2 = train.iloc[:,23]\n",
    "y_train_3 = train.iloc[:,24]\n",
    "y_train_4 = train.iloc[:,25]\n",
    "y_train_5 = train.iloc[:,26]\n",
    "y_train_6 = train.iloc[:,27]\n",
    "y_train_7 = train.iloc[:,28]\n",
    "y_train_8 = train.iloc[:,29]\n",
    "y_train_9 = train.iloc[:,30]"
   ]
  },
  {
   "cell_type": "code",
   "execution_count": 122,
   "metadata": {},
   "outputs": [],
   "source": [
    "test = test_real.drop(columns=['arm still',\n",
    "       'arm swinging', 'arm medium motion', 'arm high motion', 'leg still',\n",
    "       'leg up and down', 'body still', 'body not changing angle',\n",
    "       'body medium motion', 'label'])"
   ]
  },
  {
   "cell_type": "code",
   "execution_count": 123,
   "metadata": {},
   "outputs": [],
   "source": [
    "X_test = test.iloc[:,1:]"
   ]
  },
  {
   "cell_type": "code",
   "execution_count": 126,
   "metadata": {},
   "outputs": [],
   "source": [
    "scaler = StandardScaler()\n",
    "scaler.fit(X_train)\n",
    "X_scaled_train = scaler.transform(X_train)\n",
    "X_scaled_test = scaler.transform(X_test)"
   ]
  },
  {
   "cell_type": "code",
   "execution_count": 166,
   "metadata": {},
   "outputs": [
    {
     "name": "stderr",
     "output_type": "stream",
     "text": [
      "/Users/yuanyaning/opt/anaconda3/lib/python3.7/site-packages/sklearn/ensemble/forest.py:245: FutureWarning: The default value of n_estimators will change from 10 in version 0.20 to 100 in 0.22.\n",
      "  \"10 in version 0.20 to 100 in 0.22.\", FutureWarning)\n"
     ]
    }
   ],
   "source": [
    "arm_still_RF = RandomForestClassifier()\n",
    "arm_still_RF.fit(X_scaled_train,y_train_1)\n",
    "arm_still_labels = arm_still_RF.predict(X_scaled_test)"
   ]
  },
  {
   "cell_type": "code",
   "execution_count": 169,
   "metadata": {},
   "outputs": [
    {
     "data": {
      "text/plain": [
       "0.9809735826654794"
      ]
     },
     "execution_count": 169,
     "metadata": {},
     "output_type": "execute_result"
    }
   ],
   "source": [
    "arm_still_y = test_real['arm still']\n",
    "arm_still_RF.score(X_scaled_test,arm_still_y)"
   ]
  },
  {
   "cell_type": "code",
   "execution_count": 171,
   "metadata": {},
   "outputs": [
    {
     "name": "stderr",
     "output_type": "stream",
     "text": [
      "/Users/yuanyaning/opt/anaconda3/lib/python3.7/site-packages/sklearn/ensemble/forest.py:245: FutureWarning: The default value of n_estimators will change from 10 in version 0.20 to 100 in 0.22.\n",
      "  \"10 in version 0.20 to 100 in 0.22.\", FutureWarning)\n"
     ]
    }
   ],
   "source": [
    "arm_swinging_RF = RandomForestClassifier()\n",
    "arm_swinging_RF.fit(X_scaled_train,y_train_2)\n",
    "arm_swinging_labels = arm_swinging_RF.predict(X_scaled_test)"
   ]
  },
  {
   "cell_type": "code",
   "execution_count": 173,
   "metadata": {},
   "outputs": [
    {
     "data": {
      "text/plain": [
       "0.9711190264173345"
      ]
     },
     "execution_count": 173,
     "metadata": {},
     "output_type": "execute_result"
    }
   ],
   "source": [
    "arm_swinging_y = test_real['arm swinging']\n",
    "arm_swinging_RF.score(X_scaled_test,arm_swinging_y)"
   ]
  },
  {
   "cell_type": "code",
   "execution_count": 175,
   "metadata": {},
   "outputs": [
    {
     "name": "stderr",
     "output_type": "stream",
     "text": [
      "/Users/yuanyaning/opt/anaconda3/lib/python3.7/site-packages/sklearn/ensemble/forest.py:245: FutureWarning: The default value of n_estimators will change from 10 in version 0.20 to 100 in 0.22.\n",
      "  \"10 in version 0.20 to 100 in 0.22.\", FutureWarning)\n"
     ]
    }
   ],
   "source": [
    "arm_medium_motion_RF = RandomForestClassifier()\n",
    "arm_medium_motion_RF.fit(X_scaled_train,y_train_3)\n",
    "arm_medium_motion_labels = arm_medium_motion_RF.predict(X_scaled_test)"
   ]
  },
  {
   "cell_type": "code",
   "execution_count": 176,
   "metadata": {},
   "outputs": [
    {
     "data": {
      "text/plain": [
       "0.9773523300682695"
      ]
     },
     "execution_count": 176,
     "metadata": {},
     "output_type": "execute_result"
    }
   ],
   "source": [
    "arm_medium_motion_y = test_real['arm medium motion']\n",
    "arm_medium_motion_RF.score(X_scaled_test,arm_medium_motion_y)"
   ]
  },
  {
   "cell_type": "code",
   "execution_count": 178,
   "metadata": {},
   "outputs": [
    {
     "name": "stderr",
     "output_type": "stream",
     "text": [
      "/Users/yuanyaning/opt/anaconda3/lib/python3.7/site-packages/sklearn/ensemble/forest.py:245: FutureWarning: The default value of n_estimators will change from 10 in version 0.20 to 100 in 0.22.\n",
      "  \"10 in version 0.20 to 100 in 0.22.\", FutureWarning)\n"
     ]
    }
   ],
   "source": [
    "arm_high_motion_RF = RandomForestClassifier()\n",
    "arm_high_motion_RF.fit(X_scaled_train,y_train_4)\n",
    "arm_high_motion_labels = arm_high_motion_RF.predict(X_scaled_test)"
   ]
  },
  {
   "cell_type": "code",
   "execution_count": 179,
   "metadata": {},
   "outputs": [
    {
     "data": {
      "text/plain": [
       "0.9980706441080439"
      ]
     },
     "execution_count": 179,
     "metadata": {},
     "output_type": "execute_result"
    }
   ],
   "source": [
    "arm_high_motion_y = test_real['arm high motion']\n",
    "arm_high_motion_RF.score(X_scaled_test,arm_high_motion_y)"
   ]
  },
  {
   "cell_type": "code",
   "execution_count": 180,
   "metadata": {},
   "outputs": [
    {
     "name": "stderr",
     "output_type": "stream",
     "text": [
      "/Users/yuanyaning/opt/anaconda3/lib/python3.7/site-packages/sklearn/ensemble/forest.py:245: FutureWarning: The default value of n_estimators will change from 10 in version 0.20 to 100 in 0.22.\n",
      "  \"10 in version 0.20 to 100 in 0.22.\", FutureWarning)\n"
     ]
    }
   ],
   "source": [
    "leg_still_RF = RandomForestClassifier()\n",
    "leg_still_RF.fit(X_scaled_train,y_train_5)\n",
    "leg_still_labels = leg_still_RF.predict(X_scaled_test)"
   ]
  },
  {
   "cell_type": "code",
   "execution_count": 181,
   "metadata": {},
   "outputs": [
    {
     "data": {
      "text/plain": [
       "0.9663401602849511"
      ]
     },
     "execution_count": 181,
     "metadata": {},
     "output_type": "execute_result"
    }
   ],
   "source": [
    "leg_still_y = test_real['leg still']\n",
    "leg_still_RF.score(X_scaled_test,leg_still_y)"
   ]
  },
  {
   "cell_type": "code",
   "execution_count": 182,
   "metadata": {
    "scrolled": true
   },
   "outputs": [
    {
     "name": "stderr",
     "output_type": "stream",
     "text": [
      "/Users/yuanyaning/opt/anaconda3/lib/python3.7/site-packages/sklearn/ensemble/forest.py:245: FutureWarning: The default value of n_estimators will change from 10 in version 0.20 to 100 in 0.22.\n",
      "  \"10 in version 0.20 to 100 in 0.22.\", FutureWarning)\n"
     ]
    }
   ],
   "source": [
    "leg_up_and_down_RF = RandomForestClassifier()\n",
    "leg_up_and_down_RF.fit(X_scaled_train,y_train_6)\n",
    "leg_up_and_down_labels = leg_up_and_down_RF.predict(X_scaled_test)"
   ]
  },
  {
   "cell_type": "code",
   "execution_count": 183,
   "metadata": {},
   "outputs": [
    {
     "data": {
      "text/plain": [
       "0.990026714158504"
      ]
     },
     "execution_count": 183,
     "metadata": {},
     "output_type": "execute_result"
    }
   ],
   "source": [
    "leg_up_and_down_y = test_real['leg up and down']\n",
    "leg_up_and_down_RF.score(X_scaled_test,leg_up_and_down_y)"
   ]
  },
  {
   "cell_type": "code",
   "execution_count": 185,
   "metadata": {},
   "outputs": [
    {
     "name": "stderr",
     "output_type": "stream",
     "text": [
      "/Users/yuanyaning/opt/anaconda3/lib/python3.7/site-packages/sklearn/ensemble/forest.py:245: FutureWarning: The default value of n_estimators will change from 10 in version 0.20 to 100 in 0.22.\n",
      "  \"10 in version 0.20 to 100 in 0.22.\", FutureWarning)\n"
     ]
    }
   ],
   "source": [
    "body_still_RF = RandomForestClassifier()\n",
    "body_still_RF.fit(X_scaled_train,y_train_7)\n",
    "body_still_labels = body_still_RF.predict(X_scaled_test)"
   ]
  },
  {
   "cell_type": "code",
   "execution_count": 186,
   "metadata": {},
   "outputs": [
    {
     "data": {
      "text/plain": [
       "0.9082517067379045"
      ]
     },
     "execution_count": 186,
     "metadata": {},
     "output_type": "execute_result"
    }
   ],
   "source": [
    "body_still_y = test_real['body still']\n",
    "body_still_RF.score(X_scaled_test,body_still_y)"
   ]
  },
  {
   "cell_type": "code",
   "execution_count": 191,
   "metadata": {},
   "outputs": [
    {
     "name": "stdout",
     "output_type": "stream",
     "text": [
      "0.9694271297120808\n"
     ]
    }
   ],
   "source": [
    "body_still_KNN_model = KNeighborsClassifier()\n",
    "body_still_KNN_model.fit(X_scaled_train,y_train_7)\n",
    "print(body_still_KNN_model.score(X_scaled_test,body_still_y))"
   ]
  },
  {
   "cell_type": "code",
   "execution_count": 192,
   "metadata": {},
   "outputs": [],
   "source": [
    "body_still_labels = body_still_KNN_model.predict(X_scaled_test)"
   ]
  },
  {
   "cell_type": "code",
   "execution_count": null,
   "metadata": {},
   "outputs": [],
   "source": []
  },
  {
   "cell_type": "code",
   "execution_count": 187,
   "metadata": {
    "scrolled": true
   },
   "outputs": [
    {
     "name": "stderr",
     "output_type": "stream",
     "text": [
      "/Users/yuanyaning/opt/anaconda3/lib/python3.7/site-packages/sklearn/ensemble/forest.py:245: FutureWarning: The default value of n_estimators will change from 10 in version 0.20 to 100 in 0.22.\n",
      "  \"10 in version 0.20 to 100 in 0.22.\", FutureWarning)\n"
     ]
    }
   ],
   "source": [
    "body_not_changing_angle_RF = RandomForestClassifier()\n",
    "body_not_changing_angle_RF.fit(X_scaled_train,y_train_8)\n",
    "body_not_changing_angle_labels = body_not_changing_angle_RF.predict(X_scaled_test)"
   ]
  },
  {
   "cell_type": "code",
   "execution_count": 188,
   "metadata": {},
   "outputs": [
    {
     "data": {
      "text/plain": [
       "0.9198872068863164"
      ]
     },
     "execution_count": 188,
     "metadata": {},
     "output_type": "execute_result"
    }
   ],
   "source": [
    "body_not_changing_angle_y = test_real['body not changing angle']\n",
    "body_not_changing_angle_RF.score(X_scaled_test,body_not_changing_angle_y)"
   ]
  },
  {
   "cell_type": "code",
   "execution_count": 193,
   "metadata": {},
   "outputs": [
    {
     "name": "stdout",
     "output_type": "stream",
     "text": [
      "0.9637281092312259\n"
     ]
    }
   ],
   "source": [
    "body_not_changing_angle_KNN_model = KNeighborsClassifier()\n",
    "body_not_changing_angle_KNN_model.fit(X_scaled_train,y_train_8)\n",
    "print(body_not_changing_angle_KNN_model.score(X_scaled_test,body_not_changing_angle_y))"
   ]
  },
  {
   "cell_type": "code",
   "execution_count": 194,
   "metadata": {},
   "outputs": [],
   "source": [
    "body_not_changing_angle_labels = body_not_changing_angle_KNN_model.predict(X_scaled_test)"
   ]
  },
  {
   "cell_type": "code",
   "execution_count": 189,
   "metadata": {},
   "outputs": [
    {
     "name": "stderr",
     "output_type": "stream",
     "text": [
      "/Users/yuanyaning/opt/anaconda3/lib/python3.7/site-packages/sklearn/ensemble/forest.py:245: FutureWarning: The default value of n_estimators will change from 10 in version 0.20 to 100 in 0.22.\n",
      "  \"10 in version 0.20 to 100 in 0.22.\", FutureWarning)\n"
     ]
    }
   ],
   "source": [
    "body_medium_motion_RF = RandomForestClassifier()\n",
    "body_medium_motion_RF.fit(X_scaled_train,y_train_9)\n",
    "body_medium_motion_labels = body_medium_motion_RF.predict(X_scaled_test)"
   ]
  },
  {
   "cell_type": "code",
   "execution_count": 190,
   "metadata": {},
   "outputs": [
    {
     "data": {
      "text/plain": [
       "0.9689225289403384"
      ]
     },
     "execution_count": 190,
     "metadata": {},
     "output_type": "execute_result"
    }
   ],
   "source": [
    "body_medium_motion_y = test_real['body medium motion']\n",
    "body_medium_motion_RF.score(X_scaled_test,body_medium_motion_y)"
   ]
  },
  {
   "cell_type": "code",
   "execution_count": 195,
   "metadata": {},
   "outputs": [],
   "source": [
    "X_test['arm_still_labels']=arm_still_labels\n",
    "X_test['arm_swinging_labels']=arm_swinging_labels\n",
    "X_test['arm_medium_motion_labels']=arm_medium_motion_labels\n",
    "X_test['arm_high_motion_labels']=arm_high_motion_labels\n",
    "X_test['leg_still_labels']=leg_still_labels\n",
    "X_test['leg_up_and_down_labels']=leg_up_and_down_labels\n",
    "X_test['body_still_labels']=body_still_labels\n",
    "X_test['body_not_changing_angle_labels']=body_not_changing_angle_labels\n",
    "X_test['body_medium_motion_labels']=body_medium_motion_labels"
   ]
  },
  {
   "cell_type": "code",
   "execution_count": 196,
   "metadata": {
    "scrolled": true
   },
   "outputs": [
    {
     "data": {
      "text/html": [
       "<div>\n",
       "<style scoped>\n",
       "    .dataframe tbody tr th:only-of-type {\n",
       "        vertical-align: middle;\n",
       "    }\n",
       "\n",
       "    .dataframe tbody tr th {\n",
       "        vertical-align: top;\n",
       "    }\n",
       "\n",
       "    .dataframe thead th {\n",
       "        text-align: right;\n",
       "    }\n",
       "</style>\n",
       "<table border=\"1\" class=\"dataframe\">\n",
       "  <thead>\n",
       "    <tr style=\"text-align: right;\">\n",
       "      <th></th>\n",
       "      <th>acceleration from the chest sensor (X axis)</th>\n",
       "      <th>acceleration from the chest sensor (Y axis)</th>\n",
       "      <th>acceleration from the chest sensor (Z axis)</th>\n",
       "      <th>acceleration from the left-ankle sensor (X axis)</th>\n",
       "      <th>acceleration from the left-ankle sensor (Y axis)</th>\n",
       "      <th>acceleration from the left-ankle sensor (Z axis)</th>\n",
       "      <th>gyro from the left-ankle sensor (X axis)</th>\n",
       "      <th>gyro from the left-ankle sensor (Y axis)</th>\n",
       "      <th>gyro from the left-ankle sensor (Z axis)</th>\n",
       "      <th>magnetometer from the left-ankle sensor (X axis)</th>\n",
       "      <th>magnetometer from the left-ankle sensor (Y axis)</th>\n",
       "      <th>magnetometer from the left-ankle sensor (Z axis)</th>\n",
       "      <th>acceleration from the right-lower-arm sensor (X axis)</th>\n",
       "      <th>acceleration from the right-lower-arm sensor (Y axis)</th>\n",
       "      <th>acceleration from the right-lower-arm sensor (Z axis)</th>\n",
       "      <th>gyro from the right-lower-arm sensor (X axis)</th>\n",
       "      <th>gyro from the right-lower-arm sensor (Y axis)</th>\n",
       "      <th>gyro from the right-lower-arm sensor (Z axis)</th>\n",
       "      <th>magnetometer from the right-lower-arm sensor (X axis)</th>\n",
       "      <th>magnetometer from the right-lower-arm sensor (Y axis)</th>\n",
       "      <th>magnetometer from the right-lower-arm sensor (Z axis)</th>\n",
       "      <th>arm_still_labels</th>\n",
       "      <th>arm_swinging_labels</th>\n",
       "      <th>arm_medium_motion_labels</th>\n",
       "      <th>arm_high_motion_labels</th>\n",
       "      <th>leg_still_labels</th>\n",
       "      <th>leg_up_and_down_labels</th>\n",
       "      <th>body_still_labels</th>\n",
       "      <th>body_not_changing_angle_labels</th>\n",
       "      <th>body_medium_motion_labels</th>\n",
       "    </tr>\n",
       "  </thead>\n",
       "  <tbody>\n",
       "    <tr>\n",
       "      <td>309505</td>\n",
       "      <td>-8.7952</td>\n",
       "      <td>0.36553</td>\n",
       "      <td>-0.90394</td>\n",
       "      <td>-0.409370</td>\n",
       "      <td>-6.0615</td>\n",
       "      <td>-5.1613</td>\n",
       "      <td>-0.23006</td>\n",
       "      <td>-0.48030</td>\n",
       "      <td>0.161100</td>\n",
       "      <td>-18.0950</td>\n",
       "      <td>7.8874</td>\n",
       "      <td>7.49800</td>\n",
       "      <td>-2.0496</td>\n",
       "      <td>-7.8307</td>\n",
       "      <td>-1.06860</td>\n",
       "      <td>-0.46078</td>\n",
       "      <td>-0.37372</td>\n",
       "      <td>-0.056034</td>\n",
       "      <td>-2.9309</td>\n",
       "      <td>-5.83710</td>\n",
       "      <td>12.274</td>\n",
       "      <td>0</td>\n",
       "      <td>1</td>\n",
       "      <td>1</td>\n",
       "      <td>0</td>\n",
       "      <td>0</td>\n",
       "      <td>1</td>\n",
       "      <td>0</td>\n",
       "      <td>1</td>\n",
       "      <td>1</td>\n",
       "    </tr>\n",
       "    <tr>\n",
       "      <td>309506</td>\n",
       "      <td>-8.4579</td>\n",
       "      <td>0.17011</td>\n",
       "      <td>-1.22680</td>\n",
       "      <td>-0.030183</td>\n",
       "      <td>-4.8701</td>\n",
       "      <td>-4.8271</td>\n",
       "      <td>-0.28942</td>\n",
       "      <td>-0.49156</td>\n",
       "      <td>0.070727</td>\n",
       "      <td>-9.1922</td>\n",
       "      <td>10.3670</td>\n",
       "      <td>5.56360</td>\n",
       "      <td>-2.0719</td>\n",
       "      <td>-8.4213</td>\n",
       "      <td>-1.12940</td>\n",
       "      <td>-0.47255</td>\n",
       "      <td>-0.36550</td>\n",
       "      <td>-0.043103</td>\n",
       "      <td>-2.7625</td>\n",
       "      <td>-6.94560</td>\n",
       "      <td>10.484</td>\n",
       "      <td>0</td>\n",
       "      <td>1</td>\n",
       "      <td>1</td>\n",
       "      <td>0</td>\n",
       "      <td>0</td>\n",
       "      <td>1</td>\n",
       "      <td>0</td>\n",
       "      <td>1</td>\n",
       "      <td>1</td>\n",
       "    </tr>\n",
       "    <tr>\n",
       "      <td>309507</td>\n",
       "      <td>-8.8564</td>\n",
       "      <td>0.39709</td>\n",
       "      <td>-1.09060</td>\n",
       "      <td>1.045500</td>\n",
       "      <td>-4.8157</td>\n",
       "      <td>-4.3449</td>\n",
       "      <td>-0.28942</td>\n",
       "      <td>-0.49156</td>\n",
       "      <td>0.070727</td>\n",
       "      <td>-1.3652</td>\n",
       "      <td>10.1050</td>\n",
       "      <td>3.38950</td>\n",
       "      <td>-2.1899</td>\n",
       "      <td>-8.3788</td>\n",
       "      <td>-0.87727</td>\n",
       "      <td>-0.47255</td>\n",
       "      <td>-0.36550</td>\n",
       "      <td>-0.043103</td>\n",
       "      <td>-2.5611</td>\n",
       "      <td>-4.76270</td>\n",
       "      <td>11.188</td>\n",
       "      <td>0</td>\n",
       "      <td>1</td>\n",
       "      <td>1</td>\n",
       "      <td>0</td>\n",
       "      <td>0</td>\n",
       "      <td>1</td>\n",
       "      <td>0</td>\n",
       "      <td>1</td>\n",
       "      <td>1</td>\n",
       "    </tr>\n",
       "    <tr>\n",
       "      <td>309508</td>\n",
       "      <td>-9.3906</td>\n",
       "      <td>0.33803</td>\n",
       "      <td>-0.76958</td>\n",
       "      <td>1.327300</td>\n",
       "      <td>-4.0696</td>\n",
       "      <td>-3.9923</td>\n",
       "      <td>-0.28942</td>\n",
       "      <td>-0.49156</td>\n",
       "      <td>0.070727</td>\n",
       "      <td>7.3845</td>\n",
       "      <td>17.7240</td>\n",
       "      <td>0.54087</td>\n",
       "      <td>-2.5724</td>\n",
       "      <td>-8.3779</td>\n",
       "      <td>-0.79390</td>\n",
       "      <td>-0.47255</td>\n",
       "      <td>-0.36550</td>\n",
       "      <td>-0.043103</td>\n",
       "      <td>-2.6985</td>\n",
       "      <td>-0.55144</td>\n",
       "      <td>14.753</td>\n",
       "      <td>0</td>\n",
       "      <td>1</td>\n",
       "      <td>1</td>\n",
       "      <td>0</td>\n",
       "      <td>0</td>\n",
       "      <td>1</td>\n",
       "      <td>0</td>\n",
       "      <td>1</td>\n",
       "      <td>1</td>\n",
       "    </tr>\n",
       "    <tr>\n",
       "      <td>309509</td>\n",
       "      <td>-8.8890</td>\n",
       "      <td>0.51293</td>\n",
       "      <td>-1.59590</td>\n",
       "      <td>0.567660</td>\n",
       "      <td>-4.1039</td>\n",
       "      <td>-3.4599</td>\n",
       "      <td>-0.28942</td>\n",
       "      <td>-0.49156</td>\n",
       "      <td>0.070727</td>\n",
       "      <td>18.2390</td>\n",
       "      <td>18.1660</td>\n",
       "      <td>-0.25784</td>\n",
       "      <td>-3.4526</td>\n",
       "      <td>-8.4178</td>\n",
       "      <td>-0.77505</td>\n",
       "      <td>-0.47255</td>\n",
       "      <td>-0.36550</td>\n",
       "      <td>-0.043103</td>\n",
       "      <td>-3.8102</td>\n",
       "      <td>-3.99930</td>\n",
       "      <td>13.682</td>\n",
       "      <td>0</td>\n",
       "      <td>1</td>\n",
       "      <td>1</td>\n",
       "      <td>0</td>\n",
       "      <td>0</td>\n",
       "      <td>1</td>\n",
       "      <td>0</td>\n",
       "      <td>1</td>\n",
       "      <td>1</td>\n",
       "    </tr>\n",
       "  </tbody>\n",
       "</table>\n",
       "</div>"
      ],
      "text/plain": [
       "        acceleration from the chest sensor (X axis)  \\\n",
       "309505                                      -8.7952   \n",
       "309506                                      -8.4579   \n",
       "309507                                      -8.8564   \n",
       "309508                                      -9.3906   \n",
       "309509                                      -8.8890   \n",
       "\n",
       "        acceleration from the chest sensor (Y axis)  \\\n",
       "309505                                      0.36553   \n",
       "309506                                      0.17011   \n",
       "309507                                      0.39709   \n",
       "309508                                      0.33803   \n",
       "309509                                      0.51293   \n",
       "\n",
       "        acceleration from the chest sensor (Z axis)  \\\n",
       "309505                                     -0.90394   \n",
       "309506                                     -1.22680   \n",
       "309507                                     -1.09060   \n",
       "309508                                     -0.76958   \n",
       "309509                                     -1.59590   \n",
       "\n",
       "        acceleration from the left-ankle sensor (X axis)  \\\n",
       "309505                                         -0.409370   \n",
       "309506                                         -0.030183   \n",
       "309507                                          1.045500   \n",
       "309508                                          1.327300   \n",
       "309509                                          0.567660   \n",
       "\n",
       "        acceleration from the left-ankle sensor (Y axis)  \\\n",
       "309505                                           -6.0615   \n",
       "309506                                           -4.8701   \n",
       "309507                                           -4.8157   \n",
       "309508                                           -4.0696   \n",
       "309509                                           -4.1039   \n",
       "\n",
       "        acceleration from the left-ankle sensor (Z axis)  \\\n",
       "309505                                           -5.1613   \n",
       "309506                                           -4.8271   \n",
       "309507                                           -4.3449   \n",
       "309508                                           -3.9923   \n",
       "309509                                           -3.4599   \n",
       "\n",
       "        gyro from the left-ankle sensor (X axis)  \\\n",
       "309505                                  -0.23006   \n",
       "309506                                  -0.28942   \n",
       "309507                                  -0.28942   \n",
       "309508                                  -0.28942   \n",
       "309509                                  -0.28942   \n",
       "\n",
       "        gyro from the left-ankle sensor (Y axis)  \\\n",
       "309505                                  -0.48030   \n",
       "309506                                  -0.49156   \n",
       "309507                                  -0.49156   \n",
       "309508                                  -0.49156   \n",
       "309509                                  -0.49156   \n",
       "\n",
       "        gyro from the left-ankle sensor (Z axis)  \\\n",
       "309505                                  0.161100   \n",
       "309506                                  0.070727   \n",
       "309507                                  0.070727   \n",
       "309508                                  0.070727   \n",
       "309509                                  0.070727   \n",
       "\n",
       "        magnetometer from the left-ankle sensor (X axis)  \\\n",
       "309505                                          -18.0950   \n",
       "309506                                           -9.1922   \n",
       "309507                                           -1.3652   \n",
       "309508                                            7.3845   \n",
       "309509                                           18.2390   \n",
       "\n",
       "        magnetometer from the left-ankle sensor (Y axis)  \\\n",
       "309505                                            7.8874   \n",
       "309506                                           10.3670   \n",
       "309507                                           10.1050   \n",
       "309508                                           17.7240   \n",
       "309509                                           18.1660   \n",
       "\n",
       "        magnetometer from the left-ankle sensor (Z axis)  \\\n",
       "309505                                           7.49800   \n",
       "309506                                           5.56360   \n",
       "309507                                           3.38950   \n",
       "309508                                           0.54087   \n",
       "309509                                          -0.25784   \n",
       "\n",
       "        acceleration from the right-lower-arm sensor (X axis)  \\\n",
       "309505                                            -2.0496       \n",
       "309506                                            -2.0719       \n",
       "309507                                            -2.1899       \n",
       "309508                                            -2.5724       \n",
       "309509                                            -3.4526       \n",
       "\n",
       "        acceleration from the right-lower-arm sensor (Y axis)  \\\n",
       "309505                                            -7.8307       \n",
       "309506                                            -8.4213       \n",
       "309507                                            -8.3788       \n",
       "309508                                            -8.3779       \n",
       "309509                                            -8.4178       \n",
       "\n",
       "        acceleration from the right-lower-arm sensor (Z axis)  \\\n",
       "309505                                           -1.06860       \n",
       "309506                                           -1.12940       \n",
       "309507                                           -0.87727       \n",
       "309508                                           -0.79390       \n",
       "309509                                           -0.77505       \n",
       "\n",
       "        gyro from the right-lower-arm sensor (X axis)  \\\n",
       "309505                                       -0.46078   \n",
       "309506                                       -0.47255   \n",
       "309507                                       -0.47255   \n",
       "309508                                       -0.47255   \n",
       "309509                                       -0.47255   \n",
       "\n",
       "        gyro from the right-lower-arm sensor (Y axis)  \\\n",
       "309505                                       -0.37372   \n",
       "309506                                       -0.36550   \n",
       "309507                                       -0.36550   \n",
       "309508                                       -0.36550   \n",
       "309509                                       -0.36550   \n",
       "\n",
       "        gyro from the right-lower-arm sensor (Z axis)  \\\n",
       "309505                                      -0.056034   \n",
       "309506                                      -0.043103   \n",
       "309507                                      -0.043103   \n",
       "309508                                      -0.043103   \n",
       "309509                                      -0.043103   \n",
       "\n",
       "        magnetometer from the right-lower-arm sensor (X axis)  \\\n",
       "309505                                            -2.9309       \n",
       "309506                                            -2.7625       \n",
       "309507                                            -2.5611       \n",
       "309508                                            -2.6985       \n",
       "309509                                            -3.8102       \n",
       "\n",
       "        magnetometer from the right-lower-arm sensor (Y axis)  \\\n",
       "309505                                           -5.83710       \n",
       "309506                                           -6.94560       \n",
       "309507                                           -4.76270       \n",
       "309508                                           -0.55144       \n",
       "309509                                           -3.99930       \n",
       "\n",
       "        magnetometer from the right-lower-arm sensor (Z axis)  \\\n",
       "309505                                             12.274       \n",
       "309506                                             10.484       \n",
       "309507                                             11.188       \n",
       "309508                                             14.753       \n",
       "309509                                             13.682       \n",
       "\n",
       "        arm_still_labels  arm_swinging_labels  arm_medium_motion_labels  \\\n",
       "309505                 0                    1                         1   \n",
       "309506                 0                    1                         1   \n",
       "309507                 0                    1                         1   \n",
       "309508                 0                    1                         1   \n",
       "309509                 0                    1                         1   \n",
       "\n",
       "        arm_high_motion_labels  leg_still_labels  leg_up_and_down_labels  \\\n",
       "309505                       0                 0                       1   \n",
       "309506                       0                 0                       1   \n",
       "309507                       0                 0                       1   \n",
       "309508                       0                 0                       1   \n",
       "309509                       0                 0                       1   \n",
       "\n",
       "        body_still_labels  body_not_changing_angle_labels  \\\n",
       "309505                  0                               1   \n",
       "309506                  0                               1   \n",
       "309507                  0                               1   \n",
       "309508                  0                               1   \n",
       "309509                  0                               1   \n",
       "\n",
       "        body_medium_motion_labels  \n",
       "309505                          1  \n",
       "309506                          1  \n",
       "309507                          1  \n",
       "309508                          1  \n",
       "309509                          1  "
      ]
     },
     "execution_count": 196,
     "metadata": {},
     "output_type": "execute_result"
    }
   ],
   "source": [
    "X_test.head()"
   ]
  },
  {
   "cell_type": "code",
   "execution_count": 197,
   "metadata": {},
   "outputs": [],
   "source": [
    "X_train = train.iloc[:,1:31]"
   ]
  },
  {
   "cell_type": "code",
   "execution_count": 198,
   "metadata": {},
   "outputs": [],
   "source": [
    "y_train = train.iloc[:,31]"
   ]
  },
  {
   "cell_type": "code",
   "execution_count": 199,
   "metadata": {},
   "outputs": [],
   "source": [
    "scaler = StandardScaler()\n",
    "scaler.fit(X_train)\n",
    "X_scaled_train = scaler.transform(X_train)\n",
    "X_scaled_test = scaler.transform(X_test)"
   ]
  },
  {
   "cell_type": "code",
   "execution_count": 200,
   "metadata": {},
   "outputs": [],
   "source": [
    "# test_real"
   ]
  },
  {
   "cell_type": "code",
   "execution_count": 238,
   "metadata": {},
   "outputs": [],
   "source": [
    "y_test = test_real.iloc[:,31]"
   ]
  },
  {
   "cell_type": "code",
   "execution_count": 203,
   "metadata": {},
   "outputs": [
    {
     "name": "stdout",
     "output_type": "stream",
     "text": [
      "0.9212229148115167\n"
     ]
    }
   ],
   "source": [
    "KNN_model = KNeighborsClassifier()\n",
    "KNN_model.fit(X_scaled_train, y_train)\n",
    "print(KNN_model.score(X_scaled_test, y_test))"
   ]
  },
  {
   "cell_type": "code",
   "execution_count": 159,
   "metadata": {},
   "outputs": [],
   "source": [
    "testX=test_real.iloc[:,1:31]\n",
    "testy=test_real.iloc[:,31]\n",
    "testX = scaler.transform(testX)"
   ]
  },
  {
   "cell_type": "code",
   "execution_count": 204,
   "metadata": {},
   "outputs": [
    {
     "name": "stdout",
     "output_type": "stream",
     "text": [
      "0.98753339269813\n"
     ]
    }
   ],
   "source": [
    "print(KNN_model.score(testX, testy))"
   ]
  },
  {
   "cell_type": "code",
   "execution_count": 232,
   "metadata": {},
   "outputs": [],
   "source": [
    "acl_chest_x_mean = np.mean(X_train['acceleration from the chest sensor (X axis)'])\n",
    "acl_chest_y_mean = np.mean(X_train['acceleration from the chest sensor (Y axis)'])\n",
    "acl_chest_z_mean = np.mean(X_train['acceleration from the chest sensor (Z axis)'])\n",
    "\n",
    "acl_la_x_mean = np.mean(X_train['acceleration from the left-ankle sensor (X axis)'])\n",
    "acl_la_y_mean = np.mean(X_train['acceleration from the left-ankle sensor (Y axis)'])\n",
    "acl_la_z_mean = np.mean(X_train['acceleration from the left-ankle sensor (Z axis)'])\n",
    "\n",
    "gr_la_x_mean = np.mean(X_train['gyro from the left-ankle sensor (X axis)'])\n",
    "gr_la_y_mean = np.mean(X_train['gyro from the left-ankle sensor (Y axis)'])\n",
    "gr_la_z_mean = np.mean(X_train['gyro from the left-ankle sensor (Z axis)'])\n",
    "\n",
    "mn_la_x_mean = np.mean(X_train['magnetometer from the left-ankle sensor (X axis)'])\n",
    "mn_la_y_mean = np.mean(X_train['magnetometer from the left-ankle sensor (Y axis)'])\n",
    "mn_la_z_mean = np.mean(X_train['magnetometer from the left-ankle sensor (Z axis)'])\n",
    "\n",
    "acl_rla_x_mean = np.mean(X_train['acceleration from the right-lower-arm sensor (X axis)'])\n",
    "acl_rla_y_mean = np.mean(X_train['acceleration from the right-lower-arm sensor (Y axis)'])\n",
    "acl_rla_z_mean = np.mean(X_train['acceleration from the right-lower-arm sensor (Z axis)'])\n",
    "\n",
    "gr_rla_x_mean = np.mean(X_train['gyro from the right-lower-arm sensor (X axis)'])\n",
    "gr_rla_y_mean = np.mean(X_train['gyro from the right-lower-arm sensor (Y axis)'])\n",
    "gr_rla_z_mean = np.mean(X_train['gyro from the right-lower-arm sensor (Z axis)'])\n",
    "\n",
    "mn_rla_x_mean = np.mean(X_train['magnetometer from the right-lower-arm sensor (X axis)'])\n",
    "mn_rla_y_mean = np.mean(X_train['magnetometer from the right-lower-arm sensor (Y axis)'])\n",
    "mn_rla_z_mean = np.mean(X_train['magnetometer from the right-lower-arm sensor (Z axis)'])\n",
    "\n"
   ]
  },
  {
   "cell_type": "code",
   "execution_count": 233,
   "metadata": {},
   "outputs": [],
   "source": [
    "acl_chest_x_mean_test = np.mean(X_test['acceleration from the chest sensor (X axis)'])\n",
    "acl_chest_y_mean_test = np.mean(X_test['acceleration from the chest sensor (Y axis)'])\n",
    "acl_chest_z_mean_test = np.mean(X_test['acceleration from the chest sensor (Z axis)'])\n",
    "\n",
    "acl_la_x_mean_test = np.mean(X_test['acceleration from the left-ankle sensor (X axis)'])\n",
    "acl_la_y_mean_test = np.mean(X_test['acceleration from the left-ankle sensor (Y axis)'])\n",
    "acl_la_z_mean_test = np.mean(X_test['acceleration from the left-ankle sensor (Z axis)'])\n",
    "\n",
    "gr_la_x_mean_test = np.mean(X_test['gyro from the left-ankle sensor (X axis)'])\n",
    "gr_la_y_mean_test = np.mean(X_test['gyro from the left-ankle sensor (Y axis)'])\n",
    "gr_la_z_mean_test = np.mean(X_test['gyro from the left-ankle sensor (Z axis)'])\n",
    "\n",
    "mn_la_x_mean_test = np.mean(X_test['magnetometer from the left-ankle sensor (X axis)'])\n",
    "mn_la_y_mean_test = np.mean(X_test['magnetometer from the left-ankle sensor (Y axis)'])\n",
    "mn_la_z_mean_test = np.mean(X_test['magnetometer from the left-ankle sensor (Z axis)'])\n",
    "\n",
    "acl_rla_x_mean_test = np.mean(X_test['acceleration from the right-lower-arm sensor (X axis)'])\n",
    "acl_rla_y_mean_test = np.mean(X_test['acceleration from the right-lower-arm sensor (Y axis)'])\n",
    "acl_rla_z_mean_test = np.mean(X_test['acceleration from the right-lower-arm sensor (Z axis)'])\n",
    "\n",
    "gr_rla_x_mean_test = np.mean(X_test['gyro from the right-lower-arm sensor (X axis)'])\n",
    "gr_rla_y_mean_test = np.mean(X_test['gyro from the right-lower-arm sensor (Y axis)'])\n",
    "gr_rla_z_mean_test = np.mean(X_test['gyro from the right-lower-arm sensor (Z axis)'])\n",
    "\n",
    "mn_rla_x_mean_test = np.mean(X_test['magnetometer from the right-lower-arm sensor (X axis)'])\n",
    "mn_rla_y_mean_test = np.mean(X_test['magnetometer from the right-lower-arm sensor (Y axis)'])\n",
    "mn_rla_z_mean_test = np.mean(X_test['magnetometer from the right-lower-arm sensor (Z axis)'])"
   ]
  },
  {
   "cell_type": "code",
   "execution_count": 234,
   "metadata": {},
   "outputs": [],
   "source": [
    "X_train['acl_chest_x'] = X_train['acceleration from the chest sensor (X axis)']/acl_chest_x_mean \n",
    "X_train['acl_chest_y'] = X_train['acceleration from the chest sensor (Y axis)']/acl_chest_y_mean \n",
    "X_train['acl_chest_z'] = X_train['acceleration from the chest sensor (Z axis)']/acl_chest_z_mean \n",
    "\n",
    "X_train['acl_la_x'] = X_train['acceleration from the left-ankle sensor (X axis)']/acl_la_x_mean \n",
    "X_train['acl_la_y'] = X_train['acceleration from the left-ankle sensor (Y axis)']/acl_la_y_mean \n",
    "X_train['acl_la_z'] = X_train['acceleration from the left-ankle sensor (Z axis)']/acl_la_z_mean \n",
    "\n",
    "X_train['gr_la_x'] = X_train['gyro from the left-ankle sensor (X axis)']/gr_la_x_mean \n",
    "X_train['gr_la_y'] = X_train['gyro from the left-ankle sensor (Y axis)']/gr_la_y_mean \n",
    "X_train['gr_la_z'] = X_train['gyro from the left-ankle sensor (Z axis)']/gr_la_z_mean \n",
    "\n",
    "X_train['mn_la_x'] = X_train['magnetometer from the left-ankle sensor (X axis)']/mn_la_x_mean \n",
    "X_train['mn_la_y'] = X_train['magnetometer from the left-ankle sensor (Y axis)']/mn_la_y_mean \n",
    "X_train['mn_la_z'] = X_train['magnetometer from the left-ankle sensor (Z axis)']/mn_la_z_mean \n",
    "\n",
    "X_train['acl_rla_x'] = X_train['acceleration from the right-lower-arm sensor (X axis)']/acl_rla_x_mean \n",
    "X_train['acl_rla_y'] = X_train['acceleration from the right-lower-arm sensor (Y axis)']/acl_rla_y_mean \n",
    "X_train['acl_rla_z'] = X_train['acceleration from the right-lower-arm sensor (Z axis)']/acl_rla_z_mean \n",
    "\n",
    "X_train['gr_rla_x'] = X_train['gyro from the right-lower-arm sensor (X axis)']/gr_rla_x_mean \n",
    "X_train['gr_rla_y'] = X_train['gyro from the right-lower-arm sensor (Y axis)']/gr_rla_y_mean \n",
    "X_train['gr_rla_z'] = X_train['gyro from the right-lower-arm sensor (Z axis)']/gr_rla_z_mean \n",
    "\n",
    "X_train['mn_rla_x'] = X_train['magnetometer from the right-lower-arm sensor (X axis)']/mn_rla_x_mean \n",
    "X_train['mn_rla_y'] = X_train['magnetometer from the right-lower-arm sensor (Y axis)']/mn_rla_y_mean \n",
    "X_train['mn_rla_z'] = X_train['magnetometer from the right-lower-arm sensor (Z axis)']/mn_rla_z_mean "
   ]
  },
  {
   "cell_type": "code",
   "execution_count": 235,
   "metadata": {},
   "outputs": [],
   "source": [
    "X_test['acl_chest_x'] = X_test['acceleration from the chest sensor (X axis)']/acl_chest_x_mean_test \n",
    "X_test['acl_chest_y'] = X_test['acceleration from the chest sensor (Y axis)']/acl_chest_y_mean_test \n",
    "X_test['acl_chest_z'] = X_test['acceleration from the chest sensor (Z axis)']/acl_chest_z_mean_test \n",
    "\n",
    "X_test['acl_la_x'] = X_test['acceleration from the left-ankle sensor (X axis)']/acl_la_x_mean_test \n",
    "X_test['acl_la_y'] = X_test['acceleration from the left-ankle sensor (Y axis)']/acl_la_y_mean_test \n",
    "X_test['acl_la_z'] = X_test['acceleration from the left-ankle sensor (Z axis)']/acl_la_z_mean_test \n",
    "\n",
    "X_test['gr_la_x'] = X_test['gyro from the left-ankle sensor (X axis)']/gr_la_x_mean_test \n",
    "X_test['gr_la_y'] = X_test['gyro from the left-ankle sensor (Y axis)']/gr_la_y_mean_test \n",
    "X_test['gr_la_z'] = X_test['gyro from the left-ankle sensor (Z axis)']/gr_la_z_mean_test \n",
    "\n",
    "X_test['mn_la_x'] = X_test['magnetometer from the left-ankle sensor (X axis)']/mn_la_x_mean_test \n",
    "X_test['mn_la_y'] = X_test['magnetometer from the left-ankle sensor (Y axis)']/mn_la_y_mean_test \n",
    "X_test['mn_la_z'] = X_test['magnetometer from the left-ankle sensor (Z axis)']/mn_la_z_mean_test \n",
    "\n",
    "X_test['acl_rla_x'] = X_test['acceleration from the right-lower-arm sensor (X axis)']/acl_rla_x_mean_test \n",
    "X_test['acl_rla_y'] = X_test['acceleration from the right-lower-arm sensor (Y axis)']/acl_rla_y_mean_test \n",
    "X_test['acl_rla_z'] = X_test['acceleration from the right-lower-arm sensor (Z axis)']/acl_rla_z_mean_test \n",
    "\n",
    "X_test['gr_rla_x'] = X_test['gyro from the right-lower-arm sensor (X axis)']/gr_rla_x_mean_test \n",
    "X_test['gr_rla_y'] = X_test['gyro from the right-lower-arm sensor (Y axis)']/gr_rla_y_mean_test \n",
    "X_test['gr_rla_z'] = X_test['gyro from the right-lower-arm sensor (Z axis)']/gr_rla_z_mean_test \n",
    "\n",
    "X_test['mn_rla_x'] = X_test['magnetometer from the right-lower-arm sensor (X axis)']/mn_rla_x_mean_test \n",
    "X_test['mn_rla_y'] = X_test['magnetometer from the right-lower-arm sensor (Y axis)']/mn_rla_y_mean_test \n",
    "X_test['mn_rla_z'] = X_test['magnetometer from the right-lower-arm sensor (Z axis)']/mn_rla_z_mean_test "
   ]
  },
  {
   "cell_type": "code",
   "execution_count": 237,
   "metadata": {},
   "outputs": [],
   "source": [
    "scaler = StandardScaler()\n",
    "scaler.fit(X_train)\n",
    "X_scaled_train = scaler.transform(X_train)\n",
    "X_scaled_test = scaler.transform(X_test)"
   ]
  },
  {
   "cell_type": "code",
   "execution_count": 241,
   "metadata": {},
   "outputs": [
    {
     "name": "stdout",
     "output_type": "stream",
     "text": [
      "0.9157019887206886\n"
     ]
    }
   ],
   "source": [
    "KNN_model = KNeighborsClassifier()\n",
    "KNN_model.fit(X_scaled_train, y_train)\n",
    "print(KNN_model.score(X_scaled_test, y_test))"
   ]
  },
  {
   "cell_type": "code",
   "execution_count": 245,
   "metadata": {},
   "outputs": [],
   "source": [
    "X_train['labels'] = y_train"
   ]
  },
  {
   "cell_type": "code",
   "execution_count": 247,
   "metadata": {},
   "outputs": [],
   "source": [
    "train = X_train.copy()"
   ]
  },
  {
   "cell_type": "code",
   "execution_count": null,
   "metadata": {},
   "outputs": [],
   "source": []
  },
  {
   "cell_type": "code",
   "execution_count": null,
   "metadata": {},
   "outputs": [],
   "source": []
  },
  {
   "cell_type": "code",
   "execution_count": null,
   "metadata": {},
   "outputs": [],
   "source": []
  },
  {
   "cell_type": "code",
   "execution_count": null,
   "metadata": {},
   "outputs": [],
   "source": []
  },
  {
   "cell_type": "markdown",
   "metadata": {},
   "source": [
    "how accurate random tree classifier can be"
   ]
  },
  {
   "cell_type": "code",
   "execution_count": 16,
   "metadata": {},
   "outputs": [],
   "source": [
    "X_train = subjects2[subjects2['subject_number']!=10].iloc[:,1:22]\n",
    "X_test = subjects2[subjects2['subject_number']==10].iloc[:,1:22]\n",
    "\n",
    "y_train = subjects2[subjects2['subject_number']!=10].iloc[:,30] # first attribute\n",
    "y_test = subjects2[subjects2['subject_number']==10].iloc[:,30]\n",
    "\n",
    "scaler = StandardScaler()\n",
    "scaler.fit(X_train)\n",
    "X_scaled_train = scaler.transform(X_train)\n",
    "X_scaled_test = scaler.transform(X_test)"
   ]
  },
  {
   "cell_type": "code",
   "execution_count": 20,
   "metadata": {
    "scrolled": true
   },
   "outputs": [
    {
     "data": {
      "text/plain": [
       "0.8662511130899376"
      ]
     },
     "execution_count": 20,
     "metadata": {},
     "output_type": "execute_result"
    }
   ],
   "source": [
    "DT_model = DecisionTreeClassifier()\n",
    "DT_model.fit(X_scaled_train,y_train)\n",
    "DT_model.score(X_scaled_test,y_test)"
   ]
  },
  {
   "cell_type": "code",
   "execution_count": 22,
   "metadata": {},
   "outputs": [
    {
     "name": "stdout",
     "output_type": "stream",
     "text": [
      "0.9719501335707925\n"
     ]
    }
   ],
   "source": [
    "KNN_model = KNeighborsClassifier(n_neighbors=5)\n",
    "KNN_model.fit(X_scaled_train, y_train)\n",
    "print(KNN_model.score(X_scaled_test, y_test))"
   ]
  },
  {
   "cell_type": "code",
   "execution_count": 26,
   "metadata": {
    "scrolled": true
   },
   "outputs": [
    {
     "name": "stderr",
     "output_type": "stream",
     "text": [
      "/Users/yuanyaning/opt/anaconda3/lib/python3.7/site-packages/sklearn/ensemble/forest.py:245: FutureWarning: The default value of n_estimators will change from 10 in version 0.20 to 100 in 0.22.\n",
      "  \"10 in version 0.20 to 100 in 0.22.\", FutureWarning)\n"
     ]
    },
    {
     "data": {
      "text/plain": [
       "0.9678836449985159"
      ]
     },
     "execution_count": 26,
     "metadata": {},
     "output_type": "execute_result"
    }
   ],
   "source": [
    "RF_model = RandomForestClassifier()\n",
    "RF_model.fit(X_train,y_train)\n",
    "RF_model.score(X_test,y_test)"
   ]
  },
  {
   "cell_type": "code",
   "execution_count": 23,
   "metadata": {},
   "outputs": [
    {
     "name": "stdout",
     "output_type": "stream",
     "text": [
      "XG Boost score: 0.8744731374295043\n"
     ]
    }
   ],
   "source": [
    "XGB_model = XGBClassifier()\n",
    "XGB_model.fit(X_scaled_train, y_train)\n",
    "print(f\"XG Boost score: {XGB_model.score(X_scaled_test, y_test)}\")"
   ]
  },
  {
   "cell_type": "code",
   "execution_count": 24,
   "metadata": {},
   "outputs": [
    {
     "name": "stdout",
     "output_type": "stream",
     "text": [
      "Gradient boost score: 0.8908281389136242\n"
     ]
    }
   ],
   "source": [
    "GB_model = GradientBoostingClassifier()\n",
    "GB_model.fit(X_scaled_train, y_train)\n",
    "print(f\"Gradient boost score: {GB_model.score(X_scaled_test, y_test)}\")"
   ]
  },
  {
   "cell_type": "code",
   "execution_count": 25,
   "metadata": {},
   "outputs": [
    {
     "name": "stdout",
     "output_type": "stream",
     "text": [
      "Ada boost score: 0.8412882160878599\n"
     ]
    }
   ],
   "source": [
    "AdaBoost_model = AdaBoostClassifier(base_estimator= DecisionTreeClassifier(max_depth=1), n_estimators=50)\n",
    "AdaBoost_model.fit(X_scaled_train, y_train)\n",
    "print(f\"Ada boost score: {AdaBoost_model.score(X_scaled_test, y_test)}\")"
   ]
  },
  {
   "cell_type": "markdown",
   "metadata": {},
   "source": [
    "predict new labels:"
   ]
  },
  {
   "cell_type": "code",
   "execution_count": 212,
   "metadata": {},
   "outputs": [
    {
     "data": {
      "text/html": [
       "<div>\n",
       "<style scoped>\n",
       "    .dataframe tbody tr th:only-of-type {\n",
       "        vertical-align: middle;\n",
       "    }\n",
       "\n",
       "    .dataframe tbody tr th {\n",
       "        vertical-align: top;\n",
       "    }\n",
       "\n",
       "    .dataframe thead th {\n",
       "        text-align: right;\n",
       "    }\n",
       "</style>\n",
       "<table border=\"1\" class=\"dataframe\">\n",
       "  <thead>\n",
       "    <tr style=\"text-align: right;\">\n",
       "      <th></th>\n",
       "      <th>subject_number</th>\n",
       "      <th>acceleration from the chest sensor (X axis)</th>\n",
       "      <th>acceleration from the chest sensor (Y axis)</th>\n",
       "      <th>acceleration from the chest sensor (Z axis)</th>\n",
       "      <th>acceleration from the left-ankle sensor (X axis)</th>\n",
       "      <th>acceleration from the left-ankle sensor (Y axis)</th>\n",
       "      <th>acceleration from the left-ankle sensor (Z axis)</th>\n",
       "      <th>gyro from the left-ankle sensor (X axis)</th>\n",
       "      <th>gyro from the left-ankle sensor (Y axis)</th>\n",
       "      <th>gyro from the left-ankle sensor (Z axis)</th>\n",
       "      <th>magnetometer from the left-ankle sensor (X axis)</th>\n",
       "      <th>magnetometer from the left-ankle sensor (Y axis)</th>\n",
       "      <th>magnetometer from the left-ankle sensor (Z axis)</th>\n",
       "      <th>acceleration from the right-lower-arm sensor (X axis)</th>\n",
       "      <th>acceleration from the right-lower-arm sensor (Y axis)</th>\n",
       "      <th>acceleration from the right-lower-arm sensor (Z axis)</th>\n",
       "      <th>gyro from the right-lower-arm sensor (X axis)</th>\n",
       "      <th>gyro from the right-lower-arm sensor (Y axis)</th>\n",
       "      <th>gyro from the right-lower-arm sensor (Z axis)</th>\n",
       "      <th>magnetometer from the right-lower-arm sensor (X axis)</th>\n",
       "      <th>magnetometer from the right-lower-arm sensor (Y axis)</th>\n",
       "      <th>magnetometer from the right-lower-arm sensor (Z axis)</th>\n",
       "      <th>arm still</th>\n",
       "      <th>arm swinging</th>\n",
       "      <th>arm medium motion</th>\n",
       "      <th>arm high motion</th>\n",
       "      <th>leg still</th>\n",
       "      <th>leg up and down</th>\n",
       "      <th>body still</th>\n",
       "      <th>body not changing angle</th>\n",
       "      <th>body medium motion</th>\n",
       "      <th>label</th>\n",
       "    </tr>\n",
       "  </thead>\n",
       "  <tbody>\n",
       "    <tr>\n",
       "      <td>0</td>\n",
       "      <td>1</td>\n",
       "      <td>-9.7788</td>\n",
       "      <td>0.55690</td>\n",
       "      <td>1.19750</td>\n",
       "      <td>2.6493</td>\n",
       "      <td>-9.4517</td>\n",
       "      <td>0.37683</td>\n",
       "      <td>-0.20965</td>\n",
       "      <td>-0.88931</td>\n",
       "      <td>-0.50884</td>\n",
       "      <td>0.56366</td>\n",
       "      <td>0.544820</td>\n",
       "      <td>-0.73822</td>\n",
       "      <td>-2.8439</td>\n",
       "      <td>-9.0618</td>\n",
       "      <td>1.81770</td>\n",
       "      <td>-0.058824</td>\n",
       "      <td>-0.93429</td>\n",
       "      <td>-0.344830</td>\n",
       "      <td>0.355370</td>\n",
       "      <td>-0.37003</td>\n",
       "      <td>-0.35020</td>\n",
       "      <td>1</td>\n",
       "      <td>0</td>\n",
       "      <td>0</td>\n",
       "      <td>0</td>\n",
       "      <td>1</td>\n",
       "      <td>0</td>\n",
       "      <td>1</td>\n",
       "      <td>1</td>\n",
       "      <td>0</td>\n",
       "      <td>1</td>\n",
       "    </tr>\n",
       "    <tr>\n",
       "      <td>1</td>\n",
       "      <td>1</td>\n",
       "      <td>-9.7733</td>\n",
       "      <td>0.27880</td>\n",
       "      <td>0.73036</td>\n",
       "      <td>2.4157</td>\n",
       "      <td>-9.5306</td>\n",
       "      <td>0.40179</td>\n",
       "      <td>-0.20965</td>\n",
       "      <td>-0.88931</td>\n",
       "      <td>-0.50884</td>\n",
       "      <td>0.56810</td>\n",
       "      <td>0.911750</td>\n",
       "      <td>-0.88628</td>\n",
       "      <td>-2.9935</td>\n",
       "      <td>-9.2048</td>\n",
       "      <td>1.51890</td>\n",
       "      <td>-0.058824</td>\n",
       "      <td>-0.93429</td>\n",
       "      <td>-0.344830</td>\n",
       "      <td>0.719910</td>\n",
       "      <td>0.17803</td>\n",
       "      <td>0.37363</td>\n",
       "      <td>1</td>\n",
       "      <td>0</td>\n",
       "      <td>0</td>\n",
       "      <td>0</td>\n",
       "      <td>1</td>\n",
       "      <td>0</td>\n",
       "      <td>1</td>\n",
       "      <td>1</td>\n",
       "      <td>0</td>\n",
       "      <td>1</td>\n",
       "    </tr>\n",
       "    <tr>\n",
       "      <td>2</td>\n",
       "      <td>1</td>\n",
       "      <td>-9.8609</td>\n",
       "      <td>0.11561</td>\n",
       "      <td>0.79988</td>\n",
       "      <td>2.3865</td>\n",
       "      <td>-9.5991</td>\n",
       "      <td>0.48141</td>\n",
       "      <td>-0.20037</td>\n",
       "      <td>-0.86867</td>\n",
       "      <td>-0.50688</td>\n",
       "      <td>0.21110</td>\n",
       "      <td>0.548350</td>\n",
       "      <td>-1.01980</td>\n",
       "      <td>-2.8846</td>\n",
       "      <td>-9.1945</td>\n",
       "      <td>1.55070</td>\n",
       "      <td>-0.058824</td>\n",
       "      <td>-0.93429</td>\n",
       "      <td>-0.344830</td>\n",
       "      <td>0.355370</td>\n",
       "      <td>-0.37003</td>\n",
       "      <td>-0.35020</td>\n",
       "      <td>1</td>\n",
       "      <td>0</td>\n",
       "      <td>0</td>\n",
       "      <td>0</td>\n",
       "      <td>1</td>\n",
       "      <td>0</td>\n",
       "      <td>1</td>\n",
       "      <td>1</td>\n",
       "      <td>0</td>\n",
       "      <td>1</td>\n",
       "    </tr>\n",
       "    <tr>\n",
       "      <td>3</td>\n",
       "      <td>1</td>\n",
       "      <td>-9.7409</td>\n",
       "      <td>0.17652</td>\n",
       "      <td>0.88957</td>\n",
       "      <td>2.3758</td>\n",
       "      <td>-9.5997</td>\n",
       "      <td>0.42919</td>\n",
       "      <td>-0.20037</td>\n",
       "      <td>-0.86867</td>\n",
       "      <td>-0.50688</td>\n",
       "      <td>0.21565</td>\n",
       "      <td>1.282200</td>\n",
       "      <td>-1.17150</td>\n",
       "      <td>-2.9245</td>\n",
       "      <td>-9.1746</td>\n",
       "      <td>1.54130</td>\n",
       "      <td>-0.078431</td>\n",
       "      <td>-0.93429</td>\n",
       "      <td>-0.340520</td>\n",
       "      <td>0.357180</td>\n",
       "      <td>-0.18858</td>\n",
       "      <td>-0.35198</td>\n",
       "      <td>1</td>\n",
       "      <td>0</td>\n",
       "      <td>0</td>\n",
       "      <td>0</td>\n",
       "      <td>1</td>\n",
       "      <td>0</td>\n",
       "      <td>1</td>\n",
       "      <td>1</td>\n",
       "      <td>0</td>\n",
       "      <td>1</td>\n",
       "    </tr>\n",
       "    <tr>\n",
       "      <td>4</td>\n",
       "      <td>1</td>\n",
       "      <td>-9.7821</td>\n",
       "      <td>0.21637</td>\n",
       "      <td>0.90368</td>\n",
       "      <td>2.3239</td>\n",
       "      <td>-9.5406</td>\n",
       "      <td>0.40038</td>\n",
       "      <td>-0.20037</td>\n",
       "      <td>-0.86867</td>\n",
       "      <td>-0.50688</td>\n",
       "      <td>0.56810</td>\n",
       "      <td>0.911750</td>\n",
       "      <td>-0.88628</td>\n",
       "      <td>-2.8963</td>\n",
       "      <td>-9.2039</td>\n",
       "      <td>1.61270</td>\n",
       "      <td>-0.078431</td>\n",
       "      <td>-0.93429</td>\n",
       "      <td>-0.340520</td>\n",
       "      <td>-0.001887</td>\n",
       "      <td>-0.18867</td>\n",
       "      <td>-0.72017</td>\n",
       "      <td>1</td>\n",
       "      <td>0</td>\n",
       "      <td>0</td>\n",
       "      <td>0</td>\n",
       "      <td>1</td>\n",
       "      <td>0</td>\n",
       "      <td>1</td>\n",
       "      <td>1</td>\n",
       "      <td>0</td>\n",
       "      <td>1</td>\n",
       "    </tr>\n",
       "    <tr>\n",
       "      <td>...</td>\n",
       "      <td>...</td>\n",
       "      <td>...</td>\n",
       "      <td>...</td>\n",
       "      <td>...</td>\n",
       "      <td>...</td>\n",
       "      <td>...</td>\n",
       "      <td>...</td>\n",
       "      <td>...</td>\n",
       "      <td>...</td>\n",
       "      <td>...</td>\n",
       "      <td>...</td>\n",
       "      <td>...</td>\n",
       "      <td>...</td>\n",
       "      <td>...</td>\n",
       "      <td>...</td>\n",
       "      <td>...</td>\n",
       "      <td>...</td>\n",
       "      <td>...</td>\n",
       "      <td>...</td>\n",
       "      <td>...</td>\n",
       "      <td>...</td>\n",
       "      <td>...</td>\n",
       "      <td>...</td>\n",
       "      <td>...</td>\n",
       "      <td>...</td>\n",
       "      <td>...</td>\n",
       "      <td>...</td>\n",
       "      <td>...</td>\n",
       "      <td>...</td>\n",
       "      <td>...</td>\n",
       "      <td>...</td>\n",
       "      <td>...</td>\n",
       "    </tr>\n",
       "    <tr>\n",
       "      <td>343190</td>\n",
       "      <td>10</td>\n",
       "      <td>-21.9470</td>\n",
       "      <td>3.92360</td>\n",
       "      <td>-6.22580</td>\n",
       "      <td>-2.4873</td>\n",
       "      <td>-19.2330</td>\n",
       "      <td>3.46140</td>\n",
       "      <td>0.61967</td>\n",
       "      <td>-0.33771</td>\n",
       "      <td>-0.82711</td>\n",
       "      <td>-18.41400</td>\n",
       "      <td>94.863000</td>\n",
       "      <td>-5.91940</td>\n",
       "      <td>-8.2348</td>\n",
       "      <td>-4.9652</td>\n",
       "      <td>2.48090</td>\n",
       "      <td>-0.437250</td>\n",
       "      <td>-1.01850</td>\n",
       "      <td>0.079741</td>\n",
       "      <td>-0.213000</td>\n",
       "      <td>14.60600</td>\n",
       "      <td>8.51390</td>\n",
       "      <td>0</td>\n",
       "      <td>1</td>\n",
       "      <td>0</td>\n",
       "      <td>1</td>\n",
       "      <td>0</td>\n",
       "      <td>1</td>\n",
       "      <td>0</td>\n",
       "      <td>0</td>\n",
       "      <td>0</td>\n",
       "      <td>12</td>\n",
       "    </tr>\n",
       "    <tr>\n",
       "      <td>343191</td>\n",
       "      <td>10</td>\n",
       "      <td>-21.9140</td>\n",
       "      <td>2.75210</td>\n",
       "      <td>-12.27900</td>\n",
       "      <td>-21.5910</td>\n",
       "      <td>-19.4370</td>\n",
       "      <td>-6.04190</td>\n",
       "      <td>0.61967</td>\n",
       "      <td>-0.33771</td>\n",
       "      <td>-0.82711</td>\n",
       "      <td>-26.84900</td>\n",
       "      <td>59.351000</td>\n",
       "      <td>-25.59800</td>\n",
       "      <td>-21.3180</td>\n",
       "      <td>-10.2130</td>\n",
       "      <td>3.65600</td>\n",
       "      <td>-0.437250</td>\n",
       "      <td>-1.01850</td>\n",
       "      <td>0.079741</td>\n",
       "      <td>8.618500</td>\n",
       "      <td>36.00000</td>\n",
       "      <td>-21.12600</td>\n",
       "      <td>0</td>\n",
       "      <td>1</td>\n",
       "      <td>0</td>\n",
       "      <td>1</td>\n",
       "      <td>0</td>\n",
       "      <td>1</td>\n",
       "      <td>0</td>\n",
       "      <td>0</td>\n",
       "      <td>0</td>\n",
       "      <td>12</td>\n",
       "    </tr>\n",
       "    <tr>\n",
       "      <td>343192</td>\n",
       "      <td>10</td>\n",
       "      <td>-21.8140</td>\n",
       "      <td>-2.72740</td>\n",
       "      <td>-12.70900</td>\n",
       "      <td>7.5433</td>\n",
       "      <td>-19.2450</td>\n",
       "      <td>-2.66800</td>\n",
       "      <td>0.61967</td>\n",
       "      <td>-0.33771</td>\n",
       "      <td>-0.82711</td>\n",
       "      <td>-30.95600</td>\n",
       "      <td>-25.745000</td>\n",
       "      <td>-3.01950</td>\n",
       "      <td>-21.2970</td>\n",
       "      <td>-18.7050</td>\n",
       "      <td>4.46060</td>\n",
       "      <td>-0.437250</td>\n",
       "      <td>-1.01850</td>\n",
       "      <td>0.079741</td>\n",
       "      <td>16.953000</td>\n",
       "      <td>7.65350</td>\n",
       "      <td>-34.39500</td>\n",
       "      <td>0</td>\n",
       "      <td>1</td>\n",
       "      <td>0</td>\n",
       "      <td>1</td>\n",
       "      <td>0</td>\n",
       "      <td>1</td>\n",
       "      <td>0</td>\n",
       "      <td>0</td>\n",
       "      <td>0</td>\n",
       "      <td>12</td>\n",
       "    </tr>\n",
       "    <tr>\n",
       "      <td>343193</td>\n",
       "      <td>10</td>\n",
       "      <td>-21.7900</td>\n",
       "      <td>-3.92290</td>\n",
       "      <td>-7.27940</td>\n",
       "      <td>3.0142</td>\n",
       "      <td>-19.3340</td>\n",
       "      <td>-7.70740</td>\n",
       "      <td>0.71058</td>\n",
       "      <td>-0.27017</td>\n",
       "      <td>-0.75442</td>\n",
       "      <td>12.25600</td>\n",
       "      <td>0.060929</td>\n",
       "      <td>0.62008</td>\n",
       "      <td>-21.1380</td>\n",
       "      <td>-18.6980</td>\n",
       "      <td>1.15880</td>\n",
       "      <td>-0.425490</td>\n",
       "      <td>-1.03700</td>\n",
       "      <td>0.084052</td>\n",
       "      <td>25.375000</td>\n",
       "      <td>-29.79600</td>\n",
       "      <td>4.05460</td>\n",
       "      <td>0</td>\n",
       "      <td>1</td>\n",
       "      <td>0</td>\n",
       "      <td>1</td>\n",
       "      <td>0</td>\n",
       "      <td>1</td>\n",
       "      <td>0</td>\n",
       "      <td>0</td>\n",
       "      <td>0</td>\n",
       "      <td>12</td>\n",
       "    </tr>\n",
       "    <tr>\n",
       "      <td>343194</td>\n",
       "      <td>10</td>\n",
       "      <td>-14.4510</td>\n",
       "      <td>-1.67230</td>\n",
       "      <td>-4.79260</td>\n",
       "      <td>-2.3698</td>\n",
       "      <td>-19.3000</td>\n",
       "      <td>-4.23870</td>\n",
       "      <td>0.71058</td>\n",
       "      <td>-0.27017</td>\n",
       "      <td>-0.75442</td>\n",
       "      <td>53.97400</td>\n",
       "      <td>-14.485000</td>\n",
       "      <td>17.96900</td>\n",
       "      <td>-21.1730</td>\n",
       "      <td>-14.2910</td>\n",
       "      <td>-0.13123</td>\n",
       "      <td>-0.425490</td>\n",
       "      <td>-1.03700</td>\n",
       "      <td>0.084052</td>\n",
       "      <td>12.000000</td>\n",
       "      <td>33.06100</td>\n",
       "      <td>33.12200</td>\n",
       "      <td>0</td>\n",
       "      <td>1</td>\n",
       "      <td>0</td>\n",
       "      <td>1</td>\n",
       "      <td>0</td>\n",
       "      <td>1</td>\n",
       "      <td>0</td>\n",
       "      <td>0</td>\n",
       "      <td>0</td>\n",
       "      <td>12</td>\n",
       "    </tr>\n",
       "  </tbody>\n",
       "</table>\n",
       "<p>343195 rows × 32 columns</p>\n",
       "</div>"
      ],
      "text/plain": [
       "        subject_number  acceleration from the chest sensor (X axis)  \\\n",
       "0                    1                                      -9.7788   \n",
       "1                    1                                      -9.7733   \n",
       "2                    1                                      -9.8609   \n",
       "3                    1                                      -9.7409   \n",
       "4                    1                                      -9.7821   \n",
       "...                ...                                          ...   \n",
       "343190              10                                     -21.9470   \n",
       "343191              10                                     -21.9140   \n",
       "343192              10                                     -21.8140   \n",
       "343193              10                                     -21.7900   \n",
       "343194              10                                     -14.4510   \n",
       "\n",
       "        acceleration from the chest sensor (Y axis)  \\\n",
       "0                                           0.55690   \n",
       "1                                           0.27880   \n",
       "2                                           0.11561   \n",
       "3                                           0.17652   \n",
       "4                                           0.21637   \n",
       "...                                             ...   \n",
       "343190                                      3.92360   \n",
       "343191                                      2.75210   \n",
       "343192                                     -2.72740   \n",
       "343193                                     -3.92290   \n",
       "343194                                     -1.67230   \n",
       "\n",
       "        acceleration from the chest sensor (Z axis)  \\\n",
       "0                                           1.19750   \n",
       "1                                           0.73036   \n",
       "2                                           0.79988   \n",
       "3                                           0.88957   \n",
       "4                                           0.90368   \n",
       "...                                             ...   \n",
       "343190                                     -6.22580   \n",
       "343191                                    -12.27900   \n",
       "343192                                    -12.70900   \n",
       "343193                                     -7.27940   \n",
       "343194                                     -4.79260   \n",
       "\n",
       "        acceleration from the left-ankle sensor (X axis)  \\\n",
       "0                                                 2.6493   \n",
       "1                                                 2.4157   \n",
       "2                                                 2.3865   \n",
       "3                                                 2.3758   \n",
       "4                                                 2.3239   \n",
       "...                                                  ...   \n",
       "343190                                           -2.4873   \n",
       "343191                                          -21.5910   \n",
       "343192                                            7.5433   \n",
       "343193                                            3.0142   \n",
       "343194                                           -2.3698   \n",
       "\n",
       "        acceleration from the left-ankle sensor (Y axis)  \\\n",
       "0                                                -9.4517   \n",
       "1                                                -9.5306   \n",
       "2                                                -9.5991   \n",
       "3                                                -9.5997   \n",
       "4                                                -9.5406   \n",
       "...                                                  ...   \n",
       "343190                                          -19.2330   \n",
       "343191                                          -19.4370   \n",
       "343192                                          -19.2450   \n",
       "343193                                          -19.3340   \n",
       "343194                                          -19.3000   \n",
       "\n",
       "        acceleration from the left-ankle sensor (Z axis)  \\\n",
       "0                                                0.37683   \n",
       "1                                                0.40179   \n",
       "2                                                0.48141   \n",
       "3                                                0.42919   \n",
       "4                                                0.40038   \n",
       "...                                                  ...   \n",
       "343190                                           3.46140   \n",
       "343191                                          -6.04190   \n",
       "343192                                          -2.66800   \n",
       "343193                                          -7.70740   \n",
       "343194                                          -4.23870   \n",
       "\n",
       "        gyro from the left-ankle sensor (X axis)  \\\n",
       "0                                       -0.20965   \n",
       "1                                       -0.20965   \n",
       "2                                       -0.20037   \n",
       "3                                       -0.20037   \n",
       "4                                       -0.20037   \n",
       "...                                          ...   \n",
       "343190                                   0.61967   \n",
       "343191                                   0.61967   \n",
       "343192                                   0.61967   \n",
       "343193                                   0.71058   \n",
       "343194                                   0.71058   \n",
       "\n",
       "        gyro from the left-ankle sensor (Y axis)  \\\n",
       "0                                       -0.88931   \n",
       "1                                       -0.88931   \n",
       "2                                       -0.86867   \n",
       "3                                       -0.86867   \n",
       "4                                       -0.86867   \n",
       "...                                          ...   \n",
       "343190                                  -0.33771   \n",
       "343191                                  -0.33771   \n",
       "343192                                  -0.33771   \n",
       "343193                                  -0.27017   \n",
       "343194                                  -0.27017   \n",
       "\n",
       "        gyro from the left-ankle sensor (Z axis)  \\\n",
       "0                                       -0.50884   \n",
       "1                                       -0.50884   \n",
       "2                                       -0.50688   \n",
       "3                                       -0.50688   \n",
       "4                                       -0.50688   \n",
       "...                                          ...   \n",
       "343190                                  -0.82711   \n",
       "343191                                  -0.82711   \n",
       "343192                                  -0.82711   \n",
       "343193                                  -0.75442   \n",
       "343194                                  -0.75442   \n",
       "\n",
       "        magnetometer from the left-ankle sensor (X axis)  \\\n",
       "0                                                0.56366   \n",
       "1                                                0.56810   \n",
       "2                                                0.21110   \n",
       "3                                                0.21565   \n",
       "4                                                0.56810   \n",
       "...                                                  ...   \n",
       "343190                                         -18.41400   \n",
       "343191                                         -26.84900   \n",
       "343192                                         -30.95600   \n",
       "343193                                          12.25600   \n",
       "343194                                          53.97400   \n",
       "\n",
       "        magnetometer from the left-ankle sensor (Y axis)  \\\n",
       "0                                               0.544820   \n",
       "1                                               0.911750   \n",
       "2                                               0.548350   \n",
       "3                                               1.282200   \n",
       "4                                               0.911750   \n",
       "...                                                  ...   \n",
       "343190                                         94.863000   \n",
       "343191                                         59.351000   \n",
       "343192                                        -25.745000   \n",
       "343193                                          0.060929   \n",
       "343194                                        -14.485000   \n",
       "\n",
       "        magnetometer from the left-ankle sensor (Z axis)  \\\n",
       "0                                               -0.73822   \n",
       "1                                               -0.88628   \n",
       "2                                               -1.01980   \n",
       "3                                               -1.17150   \n",
       "4                                               -0.88628   \n",
       "...                                                  ...   \n",
       "343190                                          -5.91940   \n",
       "343191                                         -25.59800   \n",
       "343192                                          -3.01950   \n",
       "343193                                           0.62008   \n",
       "343194                                          17.96900   \n",
       "\n",
       "        acceleration from the right-lower-arm sensor (X axis)  \\\n",
       "0                                                 -2.8439       \n",
       "1                                                 -2.9935       \n",
       "2                                                 -2.8846       \n",
       "3                                                 -2.9245       \n",
       "4                                                 -2.8963       \n",
       "...                                                   ...       \n",
       "343190                                            -8.2348       \n",
       "343191                                           -21.3180       \n",
       "343192                                           -21.2970       \n",
       "343193                                           -21.1380       \n",
       "343194                                           -21.1730       \n",
       "\n",
       "        acceleration from the right-lower-arm sensor (Y axis)  \\\n",
       "0                                                 -9.0618       \n",
       "1                                                 -9.2048       \n",
       "2                                                 -9.1945       \n",
       "3                                                 -9.1746       \n",
       "4                                                 -9.2039       \n",
       "...                                                   ...       \n",
       "343190                                            -4.9652       \n",
       "343191                                           -10.2130       \n",
       "343192                                           -18.7050       \n",
       "343193                                           -18.6980       \n",
       "343194                                           -14.2910       \n",
       "\n",
       "        acceleration from the right-lower-arm sensor (Z axis)  \\\n",
       "0                                                 1.81770       \n",
       "1                                                 1.51890       \n",
       "2                                                 1.55070       \n",
       "3                                                 1.54130       \n",
       "4                                                 1.61270       \n",
       "...                                                   ...       \n",
       "343190                                            2.48090       \n",
       "343191                                            3.65600       \n",
       "343192                                            4.46060       \n",
       "343193                                            1.15880       \n",
       "343194                                           -0.13123       \n",
       "\n",
       "        gyro from the right-lower-arm sensor (X axis)  \\\n",
       "0                                           -0.058824   \n",
       "1                                           -0.058824   \n",
       "2                                           -0.058824   \n",
       "3                                           -0.078431   \n",
       "4                                           -0.078431   \n",
       "...                                               ...   \n",
       "343190                                      -0.437250   \n",
       "343191                                      -0.437250   \n",
       "343192                                      -0.437250   \n",
       "343193                                      -0.425490   \n",
       "343194                                      -0.425490   \n",
       "\n",
       "        gyro from the right-lower-arm sensor (Y axis)  \\\n",
       "0                                            -0.93429   \n",
       "1                                            -0.93429   \n",
       "2                                            -0.93429   \n",
       "3                                            -0.93429   \n",
       "4                                            -0.93429   \n",
       "...                                               ...   \n",
       "343190                                       -1.01850   \n",
       "343191                                       -1.01850   \n",
       "343192                                       -1.01850   \n",
       "343193                                       -1.03700   \n",
       "343194                                       -1.03700   \n",
       "\n",
       "        gyro from the right-lower-arm sensor (Z axis)  \\\n",
       "0                                           -0.344830   \n",
       "1                                           -0.344830   \n",
       "2                                           -0.344830   \n",
       "3                                           -0.340520   \n",
       "4                                           -0.340520   \n",
       "...                                               ...   \n",
       "343190                                       0.079741   \n",
       "343191                                       0.079741   \n",
       "343192                                       0.079741   \n",
       "343193                                       0.084052   \n",
       "343194                                       0.084052   \n",
       "\n",
       "        magnetometer from the right-lower-arm sensor (X axis)  \\\n",
       "0                                                0.355370       \n",
       "1                                                0.719910       \n",
       "2                                                0.355370       \n",
       "3                                                0.357180       \n",
       "4                                               -0.001887       \n",
       "...                                                   ...       \n",
       "343190                                          -0.213000       \n",
       "343191                                           8.618500       \n",
       "343192                                          16.953000       \n",
       "343193                                          25.375000       \n",
       "343194                                          12.000000       \n",
       "\n",
       "        magnetometer from the right-lower-arm sensor (Y axis)  \\\n",
       "0                                                -0.37003       \n",
       "1                                                 0.17803       \n",
       "2                                                -0.37003       \n",
       "3                                                -0.18858       \n",
       "4                                                -0.18867       \n",
       "...                                                   ...       \n",
       "343190                                           14.60600       \n",
       "343191                                           36.00000       \n",
       "343192                                            7.65350       \n",
       "343193                                          -29.79600       \n",
       "343194                                           33.06100       \n",
       "\n",
       "        magnetometer from the right-lower-arm sensor (Z axis)  arm still  \\\n",
       "0                                                -0.35020              1   \n",
       "1                                                 0.37363              1   \n",
       "2                                                -0.35020              1   \n",
       "3                                                -0.35198              1   \n",
       "4                                                -0.72017              1   \n",
       "...                                                   ...            ...   \n",
       "343190                                            8.51390              0   \n",
       "343191                                          -21.12600              0   \n",
       "343192                                          -34.39500              0   \n",
       "343193                                            4.05460              0   \n",
       "343194                                           33.12200              0   \n",
       "\n",
       "        arm swinging  arm medium motion  arm high motion  leg still  \\\n",
       "0                  0                  0                0          1   \n",
       "1                  0                  0                0          1   \n",
       "2                  0                  0                0          1   \n",
       "3                  0                  0                0          1   \n",
       "4                  0                  0                0          1   \n",
       "...              ...                ...              ...        ...   \n",
       "343190             1                  0                1          0   \n",
       "343191             1                  0                1          0   \n",
       "343192             1                  0                1          0   \n",
       "343193             1                  0                1          0   \n",
       "343194             1                  0                1          0   \n",
       "\n",
       "        leg up and down  body still  body not changing angle  \\\n",
       "0                     0           1                        1   \n",
       "1                     0           1                        1   \n",
       "2                     0           1                        1   \n",
       "3                     0           1                        1   \n",
       "4                     0           1                        1   \n",
       "...                 ...         ...                      ...   \n",
       "343190                1           0                        0   \n",
       "343191                1           0                        0   \n",
       "343192                1           0                        0   \n",
       "343193                1           0                        0   \n",
       "343194                1           0                        0   \n",
       "\n",
       "        body medium motion  label  \n",
       "0                        0      1  \n",
       "1                        0      1  \n",
       "2                        0      1  \n",
       "3                        0      1  \n",
       "4                        0      1  \n",
       "...                    ...    ...  \n",
       "343190                   0     12  \n",
       "343191                   0     12  \n",
       "343192                   0     12  \n",
       "343193                   0     12  \n",
       "343194                   0     12  \n",
       "\n",
       "[343195 rows x 32 columns]"
      ]
     },
     "execution_count": 212,
     "metadata": {},
     "output_type": "execute_result"
    }
   ],
   "source": []
  },
  {
   "cell_type": "code",
   "execution_count": null,
   "metadata": {},
   "outputs": [],
   "source": []
  },
  {
   "cell_type": "code",
   "execution_count": null,
   "metadata": {},
   "outputs": [],
   "source": []
  }
 ],
 "metadata": {
  "kernelspec": {
   "display_name": "Python 3",
   "language": "python",
   "name": "python3"
  },
  "language_info": {
   "codemirror_mode": {
    "name": "ipython",
    "version": 3
   },
   "file_extension": ".py",
   "mimetype": "text/x-python",
   "name": "python",
   "nbconvert_exporter": "python",
   "pygments_lexer": "ipython3",
   "version": "3.7.4"
  }
 },
 "nbformat": 4,
 "nbformat_minor": 2
}
